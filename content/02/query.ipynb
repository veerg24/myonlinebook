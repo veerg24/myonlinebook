{
 "cells": [
  {
   "cell_type": "markdown",
   "metadata": {},
   "source": [
    "## Query Dataset"
   ]
  },
  {
   "cell_type": "code",
   "execution_count": 3,
   "metadata": {
    "tags": [
     "hide_input"
    ]
   },
   "outputs": [
    {
     "name": "stderr",
     "output_type": "stream",
     "text": [
      "/anaconda3/lib/python3.7/site-packages/dask/config.py:168: YAMLLoadWarning: calling yaml.load() without Loader=... is deprecated, as the default Loader is unsafe. Please read https://msg.pyyaml.org/load for full details.\n",
      "  data = yaml.load(f.read()) or {}\n",
      "/anaconda3/lib/python3.7/site-packages/distributed/config.py:20: YAMLLoadWarning: calling yaml.load() without Loader=... is deprecated, as the default Loader is unsafe. Please read https://msg.pyyaml.org/load for full details.\n",
      "  defaults = yaml.load(f)\n"
     ]
    }
   ],
   "source": [
    "import sys\n",
    "import os\n",
    "import numpy as np\n",
    "import pandas as pd\n",
    "import xarray as xr\n",
    "from pprint import pprint\n",
    "from datetime import datetime"
   ]
  },
  {
   "cell_type": "markdown",
   "metadata": {},
   "source": [
    "### Database (with Description)"
   ]
  },
  {
   "cell_type": "code",
   "execution_count": 4,
   "metadata": {},
   "outputs": [],
   "source": [
    "database = xr.open_dataset('http://engaging-opendap.mit.edu:8080/thredds/dodsC/las/id-a1d60eba44/data_usr_local_tomcat_content_cbiomes_20190510_20_darwin_v0.2_cs510_darwin_v0.2_cs510_nutrients.nc.jnl')\n",
    "\n"
   ]
  },
  {
   "cell_type": "markdown",
   "metadata": {},
   "source": [
    "### Fields/Dimensions"
   ]
  },
  {
   "cell_type": "code",
   "execution_count": 5,
   "metadata": {
    "scrolled": false,
    "tags": [
     "hide_input"
    ]
   },
   "outputs": [
    {
     "data": {
      "text/html": [
       "<div>\n",
       "<style scoped>\n",
       "    .dataframe tbody tr th:only-of-type {\n",
       "        vertical-align: middle;\n",
       "    }\n",
       "\n",
       "    .dataframe tbody tr th {\n",
       "        vertical-align: top;\n",
       "    }\n",
       "\n",
       "    .dataframe thead th {\n",
       "        text-align: right;\n",
       "    }\n",
       "</style>\n",
       "<table border=\"1\" class=\"dataframe\">\n",
       "  <thead>\n",
       "    <tr style=\"text-align: right;\">\n",
       "      <th></th>\n",
       "      <th>Database Fields</th>\n",
       "    </tr>\n",
       "  </thead>\n",
       "  <tbody>\n",
       "    <tr>\n",
       "      <th>Fields</th>\n",
       "      <td>[FeT, PO4, DIN, SiO2, O2]</td>\n",
       "    </tr>\n",
       "  </tbody>\n",
       "</table>\n",
       "</div>"
      ],
      "text/plain": [
       "                  Database Fields\n",
       "Fields  [FeT, PO4, DIN, SiO2, O2]"
      ]
     },
     "metadata": {},
     "output_type": "display_data"
    },
    {
     "data": {
      "text/html": [
       "<div>\n",
       "<style scoped>\n",
       "    .dataframe tbody tr th:only-of-type {\n",
       "        vertical-align: middle;\n",
       "    }\n",
       "\n",
       "    .dataframe tbody tr th {\n",
       "        vertical-align: top;\n",
       "    }\n",
       "\n",
       "    .dataframe thead th {\n",
       "        text-align: right;\n",
       "    }\n",
       "</style>\n",
       "<table border=\"1\" class=\"dataframe\">\n",
       "  <thead>\n",
       "    <tr style=\"text-align: right;\">\n",
       "      <th></th>\n",
       "      <th>Database Dimensions</th>\n",
       "    </tr>\n",
       "  </thead>\n",
       "  <tbody>\n",
       "    <tr>\n",
       "      <th>Dimensions</th>\n",
       "      <td>[DEP_C, LAT_C, LON_C, TIME]</td>\n",
       "    </tr>\n",
       "  </tbody>\n",
       "</table>\n",
       "</div>"
      ],
      "text/plain": [
       "                    Database Dimensions\n",
       "Dimensions  [DEP_C, LAT_C, LON_C, TIME]"
      ]
     },
     "metadata": {},
     "output_type": "display_data"
    }
   ],
   "source": [
    "fields = list(database.keys())\n",
    "dims = list(database.dims)\n",
    "\n",
    "fields = pd.Series([fields], index = ['Fields'])\n",
    "fields = pd.DataFrame({'Database Fields' : fields})\n",
    "dims = pd.Series([dims], index = ['Dimensions'])\n",
    "dims = pd.DataFrame({'Database Dimensions' : dims})\n",
    "\n",
    "display(fields)\n",
    "display(dims)"
   ]
  },
  {
   "cell_type": "markdown",
   "metadata": {},
   "source": [
    "**Fields**: Generally, the variables being measured <br>\n",
    "**Dimensions**: What the variable is being measured over <br>\n",
    "\n",
    "Example: Susie measured the amount of mayflies ( _field_ ) over time ( _dimension_ )"
   ]
  },
  {
   "cell_type": "markdown",
   "metadata": {},
   "source": [
    "### Dimension Descriptions"
   ]
  },
  {
   "cell_type": "code",
   "execution_count": 6,
   "metadata": {
    "tags": [
     "hide_input"
    ]
   },
   "outputs": [
    {
     "data": {
      "text/html": [
       "<div>\n",
       "<style scoped>\n",
       "    .dataframe tbody tr th:only-of-type {\n",
       "        vertical-align: middle;\n",
       "    }\n",
       "\n",
       "    .dataframe tbody tr th {\n",
       "        vertical-align: top;\n",
       "    }\n",
       "\n",
       "    .dataframe thead th {\n",
       "        text-align: right;\n",
       "    }\n",
       "</style>\n",
       "<table border=\"1\" class=\"dataframe\">\n",
       "  <thead>\n",
       "    <tr style=\"text-align: right;\">\n",
       "      <th></th>\n",
       "      <th>TIME Values</th>\n",
       "      <th>DEPTH(m) Values</th>\n",
       "      <th>LATITUDE Values</th>\n",
       "      <th>LONGITUDE Values</th>\n",
       "    </tr>\n",
       "  </thead>\n",
       "  <tbody>\n",
       "    <tr>\n",
       "      <th>Start</th>\n",
       "      <td>1992-01-02 12:00:00</td>\n",
       "      <td>5</td>\n",
       "      <td>-89.75</td>\n",
       "      <td>-179.75</td>\n",
       "    </tr>\n",
       "    <tr>\n",
       "      <th>End</th>\n",
       "      <td>2016-08-20 12:00:00</td>\n",
       "      <td>5906.25</td>\n",
       "      <td>89.75</td>\n",
       "      <td>179.75</td>\n",
       "    </tr>\n",
       "    <tr>\n",
       "      <th>Length</th>\n",
       "      <td>3000</td>\n",
       "      <td>50</td>\n",
       "      <td>360.00</td>\n",
       "      <td>720.00</td>\n",
       "    </tr>\n",
       "    <tr>\n",
       "      <th>Data Logged</th>\n",
       "      <td>every 3 days</td>\n",
       "      <td>NaN</td>\n",
       "      <td>NaN</td>\n",
       "      <td>NaN</td>\n",
       "    </tr>\n",
       "  </tbody>\n",
       "</table>\n",
       "</div>"
      ],
      "text/plain": [
       "                     TIME Values DEPTH(m) Values  LATITUDE Values  \\\n",
       "Start        1992-01-02 12:00:00               5           -89.75   \n",
       "End          2016-08-20 12:00:00         5906.25            89.75   \n",
       "Length                      3000              50           360.00   \n",
       "Data Logged         every 3 days             NaN              NaN   \n",
       "\n",
       "             LONGITUDE Values  \n",
       "Start                 -179.75  \n",
       "End                    179.75  \n",
       "Length                 720.00  \n",
       "Data Logged               NaN  "
      ]
     },
     "metadata": {},
     "output_type": "display_data"
    },
    {
     "data": {
      "text/html": [
       "<div>\n",
       "<style scoped>\n",
       "    .dataframe tbody tr th:only-of-type {\n",
       "        vertical-align: middle;\n",
       "    }\n",
       "\n",
       "    .dataframe tbody tr th {\n",
       "        vertical-align: top;\n",
       "    }\n",
       "\n",
       "    .dataframe thead th {\n",
       "        text-align: right;\n",
       "    }\n",
       "</style>\n",
       "<table border=\"1\" class=\"dataframe\">\n",
       "  <thead>\n",
       "    <tr style=\"text-align: right;\">\n",
       "      <th></th>\n",
       "      <th>Depth List</th>\n",
       "    </tr>\n",
       "  </thead>\n",
       "  <tbody>\n",
       "    <tr>\n",
       "      <th>Depths List</th>\n",
       "      <td>[5.0, 15.0, 25.0, 35.0, 45.0, 55.0, 65.0, 75.004997253418, 85.0250015258789, 95.0950012207031, 105.309997558594, 115.870002746582, 127.150001525879, 139.740005493164, 154.470001220703, 172.399993896484, 194.735000610352, 222.710006713867, 257.470001220703, 299.929992675781, 350.679992675781, 409.929992675781, 477.470001220703, 552.710021972656, 634.734985351563, 722.400024414063, 814.469970703125, 909.739990234375, 1007.15502929688, 1105.90502929688, 1205.53503417969, 1306.20495605469, 1409.15002441406, 1517.09497070313, 1634.17504882813, 1765.13500976563, 1914.15002441406, 2084.03491210938, 2276.22509765625, 2491.25, 2729.25, 2990.25, 3274.25, 3581.25, 3911.25, 4264.25, 4640.25, 5039.25, 5461.25, 5906.25]</td>\n",
       "    </tr>\n",
       "  </tbody>\n",
       "</table>\n",
       "</div>"
      ],
      "text/plain": [
       "                                                                                                                                                                                                                                                                                                                                                                                                                                                                                                                                                                                                                                                                                                                                              Depth List\n",
       "Depths List  [5.0, 15.0, 25.0, 35.0, 45.0, 55.0, 65.0, 75.004997253418, 85.0250015258789, 95.0950012207031, 105.309997558594, 115.870002746582, 127.150001525879, 139.740005493164, 154.470001220703, 172.399993896484, 194.735000610352, 222.710006713867, 257.470001220703, 299.929992675781, 350.679992675781, 409.929992675781, 477.470001220703, 552.710021972656, 634.734985351563, 722.400024414063, 814.469970703125, 909.739990234375, 1007.15502929688, 1105.90502929688, 1205.53503417969, 1306.20495605469, 1409.15002441406, 1517.09497070313, 1634.17504882813, 1765.13500976563, 1914.15002441406, 2084.03491210938, 2276.22509765625, 2491.25, 2729.25, 2990.25, 3274.25, 3581.25, 3911.25, 4264.25, 4640.25, 5039.25, 5461.25, 5906.25]"
      ]
     },
     "metadata": {},
     "output_type": "display_data"
    }
   ],
   "source": [
    "#---_Time\n",
    "timeStart = datetime.fromisoformat(database.TIME.attrs['start'])\n",
    "timeEnd = datetime.fromisoformat(database.TIME.attrs['end'])\n",
    "yearRange = timeEnd.year - timeStart.year\n",
    "timeLogged = round( (yearRange * 365) / int(database.TIME.attrs['length']) )\n",
    "#----Depth\n",
    "depths = database.DEP_C.values\n",
    "#----Lats/Lons\n",
    "lats = database.LAT_C.values\n",
    "lons = database.LON_C.values\n",
    "\n",
    "#TIME\n",
    "timeSeries = pd.Series([timeStart, timeEnd, database.TIME.attrs['length'], 'every ' + str(timeLogged) + ' days'], index = ['Start', 'End', 'Length', 'Data Logged'])\n",
    "majorTable = pd.DataFrame({'TIME Values' : timeSeries})\n",
    "\n",
    "#DEPTH\n",
    "depthSeries = pd.Series([database.DEP_C.attrs['start'], database.DEP_C.attrs['end'], database.DEP_C.attrs['length'], database.DEP_C.values], index = ['Start', 'End', 'Length', 'Depth List'])\n",
    "majorTable['DEPTH(m) Values'] = depthSeries\n",
    "\n",
    "#LATITUDE\n",
    "latSeries = pd.Series([database.LAT_C.attrs['start'], database.LAT_C.attrs['end'], database.LAT_C.attrs['length']], index = ['Start', 'End', 'Length'])\n",
    "majorTable['LATITUDE Values'] = latSeries\n",
    "\n",
    "#LONGITUDE\n",
    "lonSeries = pd.Series([database.LON_C.attrs['start'], database.LON_C.attrs['end'], database.LON_C.attrs['length']], index = ['Start', 'End', 'Length'])\n",
    "majorTable['LONGITUDE Values'] = lonSeries\n",
    "\n",
    "display(majorTable)\n",
    "pd.set_option('display.max_colwidth', abs(int(database.DEP_C.attrs['end'])))\n",
    "\n",
    "depths = pd.Series([depths], index = ['Depths List'])\n",
    "depths = pd.DataFrame({'Depth List' : depths})\n",
    "display(depths)\n",
    "pd.set_option('display.max_colwidth', 100)\n"
   ]
  },
  {
   "cell_type": "markdown",
   "metadata": {},
   "source": [
    " **Definitions** <br>\n",
    "**Start**: value the dimension begins at EX: (**_1_**, 2, 3...) <br>\n",
    "**End**: values the dimension ends with  EX: (...4, 5, **_6_**) <br>\n",
    "**Length**: amount of items in dimensions EX: (the length of the alphabet is **26**) <br>\n",
    "**Data Logged**: amount of time between each data log EX: (time data is logged every _**x**_ days) <br>\n",
    "**Depth List**: list of all logged depths in the database EX: (**30 meters, 40 meters, etc**)"
   ]
  },
  {
   "cell_type": "markdown",
   "metadata": {},
   "source": [
    "### Field Descriptions"
   ]
  },
  {
   "cell_type": "code",
   "execution_count": 7,
   "metadata": {},
   "outputs": [],
   "source": [
    "field = database.variables['O2'] #field to describe"
   ]
  },
  {
   "cell_type": "code",
   "execution_count": 257,
   "metadata": {
    "tags": [
     "hide_input"
    ]
   },
   "outputs": [
    {
     "data": {
      "text/html": [
       "<div>\n",
       "<style scoped>\n",
       "    .dataframe tbody tr th:only-of-type {\n",
       "        vertical-align: middle;\n",
       "    }\n",
       "\n",
       "    .dataframe tbody tr th {\n",
       "        vertical-align: top;\n",
       "    }\n",
       "\n",
       "    .dataframe thead th {\n",
       "        text-align: right;\n",
       "    }\n",
       "</style>\n",
       "<table border=\"1\" class=\"dataframe\">\n",
       "  <thead>\n",
       "    <tr style=\"text-align: right;\">\n",
       "      <th></th>\n",
       "      <th>O2 concentration</th>\n",
       "    </tr>\n",
       "  </thead>\n",
       "  <tbody>\n",
       "    <tr>\n",
       "      <th>Dimensions</th>\n",
       "      <td>(TIME, DEP_C, LAT_C, LON_C)</td>\n",
       "    </tr>\n",
       "    <tr>\n",
       "      <th>Units</th>\n",
       "      <td>mmol O/m^3</td>\n",
       "    </tr>\n",
       "    <tr>\n",
       "      <th>Datatype</th>\n",
       "      <td>FLOAT</td>\n",
       "    </tr>\n",
       "    <tr>\n",
       "      <th>Direction</th>\n",
       "      <td>IJKL</td>\n",
       "    </tr>\n",
       "    <tr>\n",
       "      <th>Dataset Index</th>\n",
       "      <td>1</td>\n",
       "    </tr>\n",
       "  </tbody>\n",
       "</table>\n",
       "</div>"
      ],
      "text/plain": [
       "                          O2 concentration\n",
       "Dimensions     (TIME, DEP_C, LAT_C, LON_C)\n",
       "Units                           mmol O/m^3\n",
       "Datatype                             FLOAT\n",
       "Direction                             IJKL\n",
       "Dataset Index                            1"
      ]
     },
     "metadata": {},
     "output_type": "display_data"
    }
   ],
   "source": [
    "\n",
    "#Attributes \n",
    "fieldTable = pd.Series([field.dims, field.attrs['units'], field.attrs['infile_datatype'], field.attrs['direction'], field.attrs['dataset_index']], index = ['Dimensions', 'Units', 'Datatype', 'Direction', 'Dataset Index'])\n",
    "fieldTable = pd.DataFrame({str(field.attrs['long_name']) : fieldTable})\n",
    "display(fieldTable)\n"
   ]
  },
  {
   "cell_type": "markdown",
   "metadata": {},
   "source": [
    "A description of the **variable's** attributes. To describe a variable of your choosing, enter the field name in the \"database.variables['< YOUR FIELD HERE >']\" space"
   ]
  }
 ],
 "metadata": {
  "celltoolbar": "Tags",
  "kernelspec": {
   "display_name": "Python 3",
   "language": "python",
   "name": "python3"
  },
  "language_info": {
   "codemirror_mode": {
    "name": "ipython",
    "version": 3
   },
   "file_extension": ".py",
   "mimetype": "text/x-python",
   "name": "python",
   "nbconvert_exporter": "python",
   "pygments_lexer": "ipython3",
   "version": "3.7.3"
  }
 },
 "nbformat": 4,
 "nbformat_minor": 2
}
